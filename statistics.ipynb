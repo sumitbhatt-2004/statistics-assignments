{
  "nbformat": 4,
  "nbformat_minor": 0,
  "metadata": {
    "colab": {
      "provenance": []
    },
    "kernelspec": {
      "name": "python3",
      "display_name": "Python 3"
    },
    "language_info": {
      "name": "python"
    }
  },
  "cells": [
    {
      "cell_type": "markdown",
      "source": [
        "BASIC QUESTION :"
      ],
      "metadata": {
        "id": "BZ8yZc1W4Ous"
      }
    },
    {
      "cell_type": "markdown",
      "source": [
        "QUESTION : 1. What is statistics, and why is it important?  \n",
        "  \n",
        "  SOLUTION :  Statistics is the study of collecting, analyzing, interpreting, presenting, and organizing data.* It helps make informed decisions based on data and identifies trends and patterns, which is important in fields like business, science, and social sciences.\n",
        "\n",
        "QUESTION 2. What are the two main types of statistics?  \n",
        "  SOLUTION :\n",
        "   **Descriptive Statistics**: Summarizes and describes characteristics of a dataset.\n",
        "\n",
        "   **Inferential Statistics**: Makes predictions or inferences about a population based on a sample of data.\n",
        "\n",
        "QUESTION 3. What are descriptive statistics?  \n",
        "  \n",
        "SOLUTION : Descriptive statistics are numerical and graphical methods used to summarize and describe the main features of a dataset.* Examples include measures like mean, median, mode, and standard deviation.\n",
        "\n",
        "QUESTION 4. What is inferential statistics?\n",
        "   \n",
        "SOLUTION : Inferential statistics involves using a random sample of data to draw conclusions about a larger population. It often utilizes hypothesis testing, confidence intervals, and regression analysis.\n",
        "\n",
        "QUESTION 5. What is sampling in statistics?\n",
        "\n",
        "   SOLUTION : Sampling is the process of selecting a subset of individuals from a population to estimate characteristics of the whole population.* Proper sampling is critical for valid statistical analysis.\n",
        "\n",
        "QUESTION : 6. What are the different types of sampling methods?  \n",
        "SOLUTION :\n",
        "   - **Random Sampling**: Every individual has an equal chance of being chosen.\n",
        "   - **Stratified Sampling**: Population is divided into subgroups, and samples are drawn from each.\n",
        "   - **Systematic Sampling**: Participants are selected at regular intervals.\n",
        "   - **Cluster Sampling**: Divides the population into clusters and randomly selects entire clusters.\n",
        "\n",
        "QUESTION :7 What is the difference between random and non-random sampling?\n",
        "\n",
        " SOLUTION :  \n",
        "   - **Random Sampling**: Unbiased; every member has an equal chance of selection.\n",
        "   - **Non-Random Sampling**: Biased; not every member has a chance, like convenience sampling or judgment sampling.\n",
        "\n",
        "QUESTION : 8. Define and give examples of qualitative and quantitative data.\n",
        "\n",
        "SOLUTION :\n",
        "\n",
        "   - **Qualitative Data**: Descriptive data that can be categorized. *Example: Colors, names, or opinions.*\n",
        "   - **Quantitative Data**: Numerical data that can be measured. *Example: Age, height, or temperature.*\n",
        "\n",
        "QUESTION : 9. What are the different types of data in statistics?\n",
        "SOLUTION :  \n",
        "   - **Nominal Data**: Unordered categories (e.g., gender, city).\n",
        "   - **Ordinal Data**: Ordered categories (e.g., satisfaction ratings).\n",
        "   - **Interval Data**: Numeric data without a true zero (e.g., temperature in Celsius).\n",
        "   - **Ratio Data**: Numeric data with a true zero (e.g., weight, height).\n",
        "\n",
        "QUESTION 10. Explain nominal, ordinal, interval, and ratio levels of measurement.\n",
        "\n",
        "  SOLUTON :      \n",
        "**Nominal** Unordered categories Gender, Eye color\n",
        "\n",
        "  **Ordinal** Ordered categories Movie ratings (1-5 stars)  \n",
        "\n",
        "  **Interval** Numeric values without a true zero Temperature in Celsius         \n",
        "\n",
        "  **Ratio** Numeric values with a true zero Weight, Height\n",
        "\n",
        "QUESTION : 11. What is the measure of central tendency?  \n",
        "   *The measure of central tendency refers to a central point in a dataset.* Common measures include mean, median, and mode.\n",
        "\n",
        "QUESTION : 12.Define mean, median, and mode.\n",
        "\n",
        "SOLUTION :\n",
        "   - **Mean**: Average of a set of numbers.\n",
        "   - **Median**: Middle value when data is ordered.\n",
        "   - **Mode**: The most frequently occurring number in a dataset.\n",
        "\n",
        "QUESTION : 13. What is the significance of the measure of central tendency?\n",
        "\n",
        "SOLUTION : Measures of central tendency provide a summary measure that represents the entire dataset.* They help in comparing different datasets and understanding their distributions.\n",
        "\n",
        "QUESTION : 14. What is variance, and how is it calculated?\n",
        "  \n",
        "SOLUTION : Variance is a measure of how much individual values in a dataset differ from the mean.* It is calculated as the average of the squared differences from the mean.\n",
        "\n",
        "QUESTION : 15. What is standard deviation, and why is it important?\n",
        "\n",
        "SOLUTION : Standard deviation measures the amount of variation or dispersion in a dataset.* It's important because it gives insights into the reliability and spread of the data points compared to the mean.\n",
        "\n",
        "QUESTION :16. Define and explain the term range in statistics.  \n",
        "  \n",
        "SOLUTION : Range is the difference between the maximum and minimum values in a dataset.* It gives a simple measure of how spread out the values are.\n",
        "\n",
        "QUESTION 17. What is the difference between variance and standard deviation?  \n",
        "  SOLUTION :  **Variance**: Average of squared differences from the mean. It’s expressed in square units.\n",
        "\n",
        "   - **Standard Deviation**: Square root of the variance. It’s expressed in the same units as the data and is more interpretable.\n",
        "\n",
        "QUESTION: 18. What is skewness in a dataset?  \n",
        "   *Skewness measures the asymmetry of the distribution of values in a dataset.* Positive skew has a long tail on the right, and negative skew has a long tail on the left.\n",
        "\n",
        "QUESTION 19. What does it mean if a dataset is positively or negatively skewed?  \n",
        "  \n",
        "SOLUTION :  **Positively Skewed**: Majority of data points are concentrated on the left, with a tail extending to the right.\n",
        "\n",
        "   - **Negatively Skewed**: Majority of data points are on the right, with a tail extending to the left.\n",
        "\n",
        "QUESTION 20. Define and explain kurtosis.\n",
        "  SOLUTION :Kurtosis measures the \"tailedness\" of the probability distribution of a real-valued random variable.* High kurtosis indicates more outliers, while low kurtosis indicates fewer outliers.\n",
        "\n",
        "QUESTION21. What is the purpose of covariance?  \n",
        "  SOLUTION : Covariance measures how much two random variables change together.* It’s useful for understanding the relationship between the variables (positive, negative, or none).\n",
        "\n",
        "QUESTION 22. What does correlation measure in statistics?  \n",
        "  SOLUTION : Correlation quantifies the degree to which two variables are related.* It ranges from -1 to 1, indicating the strength and direction of the relationship.\n",
        "\n",
        "QUESTION 23. What is the difference between covariance and correlation?\n",
        "  \n",
        "SOLUTION : **Covariance**: Provides a measure of how two variables vary together, but is not standardized and depends on the units of the variables.\n",
        "   - **Correlation**: Standardized version of covariance that expresses the strength and direction of the relationship on a scale of -1 to 1.\n",
        "\n",
        "QUESTION :24. What are some real-world applications of statistics?\n",
        "\n",
        "SOLUTION:\n",
        "   \n",
        "   - **Business**: Market research, sales forecasting.\n",
        "   - **Healthcare**: Analyzing patient data and treatment effects.\n",
        "   - **Government**: Census data analysis, economic forecasts.\n",
        "   - **Sports**: Player performance metrics and game strategies.\n"
      ],
      "metadata": {
        "id": "lUjllwD7pPXV"
      }
    },
    {
      "cell_type": "markdown",
      "source": [
        "PRACTICAL qUESTION :"
      ],
      "metadata": {
        "id": "sKEnWkEs4HPH"
      }
    },
    {
      "cell_type": "markdown",
      "source": [
        "SOLUTION : Calculate Mean, Median, and Mode"
      ],
      "metadata": {
        "id": "Vrzj86vY4Krw"
      }
    },
    {
      "cell_type": "code",
      "source": [
        "import numpy as np\n",
        "from scipy import stats\n",
        "\n",
        "# Sample dataset\n",
        "data = [1, 2, 2, 3, 4, 5]\n",
        "\n",
        "# Calculate mean\n",
        "mean = np.mean(data)\n",
        "\n",
        "# Calculate median\n",
        "median = np.median(data)\n",
        "\n",
        "# Calculate mode\n",
        "mode = stats.mode(data).mode[0]  # stats.mode returns a ModeResult object; we take the first mode value\n",
        "\n",
        "# Print results\n",
        "print(f\"Mean: {mean}, Median: {median}, Mode: {mode}\")\n"
      ],
      "metadata": {
        "id": "jzlH1QwmGr05"
      },
      "execution_count": null,
      "outputs": []
    },
    {
      "cell_type": "markdown",
      "source": [
        "Solution : Variance and Standard Deviation."
      ],
      "metadata": {
        "id": "_mChxDK1_OY5"
      }
    },
    {
      "cell_type": "code",
      "source": [
        "data = [1, 2, 3, 4, 5]\n",
        "variance = np.var(data, ddof=0)  # Population variance\n",
        "std_dev = np.std(data, ddof=0)   # Population standard deviation\n",
        "\n",
        "print(f\"Variance: {variance}, Standard Deviation: {std_dev}\")\n"
      ],
      "metadata": {
        "colab": {
          "base_uri": "https://localhost:8080/"
        },
        "id": "fD7I7Pn-_MK2",
        "outputId": "401ec182-1fc4-4b87-ca3d-60d57faf6ebb"
      },
      "execution_count": 11,
      "outputs": [
        {
          "output_type": "stream",
          "name": "stdout",
          "text": [
            "Variance: 2.0, Standard Deviation: 1.4142135623730951\n"
          ]
        }
      ]
    },
    {
      "cell_type": "markdown",
      "source": [
        "solution : Classifying Dataset Types"
      ],
      "metadata": {
        "id": "XTldLj31_cHn"
      }
    },
    {
      "cell_type": "code",
      "source": [
        "data_types = {\n",
        "    \"colors\": [\"red\", \"blue\", \"green\"],  # Nominal\n",
        "    \"ratings\": [\"bad\", \"average\", \"good\"],  # Ordinal\n",
        "    \"temperatures\": [32, 45, 50],  # Interval\n",
        "    \"weights\": [0, 60, 80]  # Ratio\n",
        "}\n"
      ],
      "metadata": {
        "id": "cG3yIOGc_j9K"
      },
      "execution_count": 12,
      "outputs": []
    },
    {
      "cell_type": "markdown",
      "source": [
        "solution : Implement Random and Stratified Sampling."
      ],
      "metadata": {
        "id": "vjj1kmH5_u-p"
      }
    },
    {
      "cell_type": "code",
      "source": [
        "# Random Sampling:\n",
        "import random\n",
        "\n",
        "population = [1, 2, 3, 4, 5, 6, 7, 8, 9, 10]\n",
        "sample = random.sample(population, 5)\n",
        "print(f\"Random Sample: {sample}\")\n"
      ],
      "metadata": {
        "colab": {
          "base_uri": "https://localhost:8080/"
        },
        "id": "iBFZVAdW_urx",
        "outputId": "35474202-e55c-44df-9aa8-edf48c2576bd"
      },
      "execution_count": 13,
      "outputs": [
        {
          "output_type": "stream",
          "name": "stdout",
          "text": [
            "Random Sample: [9, 8, 7, 3, 5]\n"
          ]
        }
      ]
    },
    {
      "cell_type": "code",
      "source": [
        "# Stratified Sampling:\n",
        "data = {\"group1\": [1, 2, 3], \"group2\": [4, 5, 6]}\n",
        "stratified_sample = {key: random.sample(value, 2) for key, value in data.items()}\n",
        "print(f\"Stratified Sample: {stratified_sample}\")\n"
      ],
      "metadata": {
        "colab": {
          "base_uri": "https://localhost:8080/"
        },
        "id": "kDuWnLjVAFAq",
        "outputId": "6c5c8bd3-2f60-415b-bb51-59f930f74849"
      },
      "execution_count": 14,
      "outputs": [
        {
          "output_type": "stream",
          "name": "stdout",
          "text": [
            "Stratified Sample: {'group1': [2, 3], 'group2': [4, 6]}\n"
          ]
        }
      ]
    },
    {
      "cell_type": "markdown",
      "source": [
        "solution : Calculate the Range"
      ],
      "metadata": {
        "id": "wMAErZXeAOrt"
      }
    },
    {
      "cell_type": "code",
      "source": [
        "data = [1, 2, 3, 4, 5]\n",
        "data_range = np.max(data) - np.min(data)\n",
        "print(f\"Range: {data_range}\")\n"
      ],
      "metadata": {
        "colab": {
          "base_uri": "https://localhost:8080/"
        },
        "id": "kUgk7EbPAXOV",
        "outputId": "16dc8ea3-49f4-406d-aa76-9c443fa9ff9f"
      },
      "execution_count": 15,
      "outputs": [
        {
          "output_type": "stream",
          "name": "stdout",
          "text": [
            "Range: 4\n"
          ]
        }
      ]
    },
    {
      "cell_type": "markdown",
      "source": [
        "solution : Create a Histogram to Visualize Skewness."
      ],
      "metadata": {
        "id": "QpUvE7UzAjHl"
      }
    },
    {
      "cell_type": "code",
      "source": [
        "import matplotlib.pyplot as plt\n",
        "\n",
        "data = [1, 1, 2, 3, 4, 5, 6, 7, 8, 8, 9]  # Example dataset\n",
        "plt.hist(data, bins=10, edgecolor='black')\n",
        "plt.title(\"Histogram\")\n",
        "plt.xlabel(\"Value\")\n",
        "plt.ylabel(\"Frequency\")\n",
        "plt.show()\n"
      ],
      "metadata": {
        "colab": {
          "base_uri": "https://localhost:8080/",
          "height": 472
        },
        "id": "O1T5uY_yAiug",
        "outputId": "8a93bcd0-d264-443a-80fc-3efbab09ffec"
      },
      "execution_count": 16,
      "outputs": [
        {
          "output_type": "display_data",
          "data": {
            "text/plain": [
              "<Figure size 640x480 with 1 Axes>"
            ],
            "image/png": "[encoded data removed]"
          },
          "metadata": {}
        }
      ]
    },
    {
      "cell_type": "markdown",
      "source": [
        "solution :  Calculate Skewness and Kurtosis"
      ],
      "metadata": {
        "id": "znJMGjJPA4TT"
      }
    },
    {
      "cell_type": "code",
      "source": [
        "data = [1, 2, 2, 3, 4, 5]\n",
        "skewness = stats.skew(data)\n",
        "kurtosis_value = stats.kurtosis(data)\n",
        "\n",
        "print(f\"Skewness: {skewness}, Kurtosis: {kurtosis_value}\")\n"
      ],
      "metadata": {
        "colab": {
          "base_uri": "https://localhost:8080/"
        },
        "id": "XCDqGZTAA37Q",
        "outputId": "4fa60b07-865f-4e6b-efc2-e5dea45c442c"
      },
      "execution_count": 17,
      "outputs": [
        {
          "output_type": "stream",
          "name": "stdout",
          "text": [
            "Skewness: 0.3053162697580513, Kurtosis: -1.1517159763313607\n"
          ]
        }
      ]
    },
    {
      "cell_type": "markdown",
      "source": [
        "solution : Generate Data to Demonstrate Positive and Negative Skewness"
      ],
      "metadata": {
        "id": "gx7imO4WBJZR"
      }
    },
    {
      "cell_type": "code",
      "source": [
        "positive_skew = np.random.exponential(scale=2, size=1000)\n",
        "plt.hist(positive_skew, bins=30, edgecolor='black')\n",
        "plt.title(\"Positive Skewness\")\n",
        "plt.show()\n"
      ],
      "metadata": {
        "colab": {
          "base_uri": "https://localhost:8080/",
          "height": 452
        },
        "id": "mIMmApGIBJBF",
        "outputId": "5eaf41a1-8953-4153-d691-7785b36ca13e"
      },
      "execution_count": 18,
      "outputs": [
        {
          "output_type": "display_data",
          "data": {
            "text/plain": [
              "<Figure size 640x480 with 1 Axes>"
            ],
            "image/png": "[encoded data removed]"
          },
          "metadata": {}
        }
      ]
    },
    {
      "cell_type": "code",
      "source": [
        "# Negative Skewness:\n",
        "negative_skew = np.random.normal(loc=2, scale=1, size=1000)  # Left Skewed\n",
        "plt.hist(negative_skew, bins=30, edgecolor='black')\n",
        "plt.title(\"Negative Skewness\")\n",
        "plt.show()\n"
      ],
      "metadata": {
        "colab": {
          "base_uri": "https://localhost:8080/",
          "height": 452
        },
        "id": "h_iOlyPkBXL-",
        "outputId": "ad7f8816-bbf2-4464-ecec-997c4f0a1755"
      },
      "execution_count": 19,
      "outputs": [
        {
          "output_type": "display_data",
          "data": {
            "text/plain": [
              "<Figure size 640x480 with 1 Axes>"
            ],
            "image/png": "[encoded data removed]"
          },
          "metadata": {}
        }
      ]
    },
    {
      "cell_type": "markdown",
      "source": [
        "solution :  Calculate Covariance Between Two Datasets."
      ],
      "metadata": {
        "id": "Hp32F4rzBiTq"
      }
    },
    {
      "cell_type": "code",
      "source": [
        "data1 = [1, 2, 3, 4, 5]\n",
        "data2 = [5, 4, 3, 2, 1]\n",
        "covariance = np.cov(data1, data2)[0][1]\n",
        "\n",
        "print(f\"Covariance: {covariance}\")\n"
      ],
      "metadata": {
        "colab": {
          "base_uri": "https://localhost:8080/"
        },
        "id": "5HF4fsrnBh8n",
        "outputId": "fcc85b69-78c6-4bb5-b228-95728c7ab851"
      },
      "execution_count": 20,
      "outputs": [
        {
          "output_type": "stream",
          "name": "stdout",
          "text": [
            "Covariance: -2.5\n"
          ]
        }
      ]
    },
    {
      "cell_type": "markdown",
      "source": [
        "solution : Create a Scatter Plot,"
      ],
      "metadata": {
        "id": "IOai_8RTBvQz"
      }
    },
    {
      "cell_type": "code",
      "source": [
        "plt.scatter(data1, data2)\n",
        "plt.title(\"Scatter Plot\")\n",
        "plt.xlabel(\"Data1\")\n",
        "plt.ylabel(\"Data2\")\n",
        "plt.show()\n"
      ],
      "metadata": {
        "colab": {
          "base_uri": "https://localhost:8080/",
          "height": 472
        },
        "id": "8UNi2bixBu5T",
        "outputId": "919e7f6e-67f0-485d-9da1-7ab9aa54742f"
      },
      "execution_count": 21,
      "outputs": [
        {
          "output_type": "display_data",
          "data": {
            "text/plain": [
              "<Figure size 640x480 with 1 Axes>"
            ],
            "image/png": "[encoded data removed]"
          },
          "metadata": {}
        }
      ]
    },
    {
      "cell_type": "markdown",
      "source": [
        "solution : Simple Random Sampling vs Systematic Sampling."
      ],
      "metadata": {
        "id": "S1l6whYXCHNE"
      }
    },
    {
      "cell_type": "code",
      "source": [
        "# Systematic Sampling:\n",
        "pop = list(range(1, 101))\n",
        "n = 10  # Sample every 10th item\n",
        "systematic_sample = pop[::n]\n",
        "print(f\"Systematic Sample: {systematic_sample}\")\n"
      ],
      "metadata": {
        "colab": {
          "base_uri": "https://localhost:8080/"
        },
        "id": "DqqRU8DbCG5g",
        "outputId": "1fe4cc4c-7614-48f6-80dc-219dcd869c30"
      },
      "execution_count": 22,
      "outputs": [
        {
          "output_type": "stream",
          "name": "stdout",
          "text": [
            "Systematic Sample: [1, 11, 21, 31, 41, 51, 61, 71, 81, 91]\n"
          ]
        }
      ]
    },
    {
      "cell_type": "markdown",
      "source": [
        "solution : Mean, Median, and Mode of Grouped Data"
      ],
      "metadata": {
        "id": "3tEV1lfsCcVE"
      }
    },
    {
      "cell_type": "code",
      "source": [
        "# Example groups (midpoint, frequency)\n",
        "grouped_data = [(1, 2), (2, 5), (3, 3)]  # (midpoint, frequency)\n",
        "mean_grouped = sum(mid * freq for mid, freq in grouped_data) / sum(freq for _, freq in grouped_data)\n",
        "\n",
        "print(f\"Mean of Grouped Data: {mean_grouped}\")\n"
      ],
      "metadata": {
        "colab": {
          "base_uri": "https://localhost:8080/"
        },
        "id": "1ariGYytCWA4",
        "outputId": "ab8c9fc6-0430-41d3-815e-f6908df69cbc"
      },
      "execution_count": 23,
      "outputs": [
        {
          "output_type": "stream",
          "name": "stdout",
          "text": [
            "Mean of Grouped Data: 2.1\n"
          ]
        }
      ]
    },
    {
      "cell_type": "markdown",
      "source": [
        "solution :  Simulate Data and Calculate Central Tendency"
      ],
      "metadata": {
        "id": "_mQqwEhGClP4"
      }
    },
    {
      "cell_type": "code",
      "source": [
        "simulated_data = np.random.normal(loc=10, scale=2, size=1000)\n",
        "mean = np.mean(simulated_data)\n",
        "median = np.median(simulated_data)\n",
        "\n",
        "print(f\"Simulated Mean: {mean}, Simulated Median: {median}\")\n"
      ],
      "metadata": {
        "colab": {
          "base_uri": "https://localhost:8080/"
        },
        "id": "Vi26TQlFCk1G",
        "outputId": "bf6926c2-a787-4576-c830-ebc736e8471d"
      },
      "execution_count": 24,
      "outputs": [
        {
          "output_type": "stream",
          "name": "stdout",
          "text": [
            "Simulated Mean: 10.021212000771422, Simulated Median: 9.992789403085801\n"
          ]
        }
      ]
    },
    {
      "cell_type": "markdown",
      "source": [
        "solution : Summarize Dataset with Descriptive Statistics"
      ],
      "metadata": {
        "id": "vqLiSQMACw9N"
      }
    },
    {
      "cell_type": "code",
      "source": [
        "import pandas as pd\n",
        "\n",
        "data = pd.Series([1, 2, 3, 4, 5, 6, 7, 8, 9])\n",
        "description = data.describe()\n",
        "print(description)\n"
      ],
      "metadata": {
        "colab": {
          "base_uri": "https://localhost:8080/"
        },
        "id": "aqXQ-sNFCwi4",
        "outputId": "ed7d6981-acdc-4727-a44f-5672b7dbcf59"
      },
      "execution_count": 25,
      "outputs": [
        {
          "output_type": "stream",
          "name": "stdout",
          "text": [
            "count    9.000000\n",
            "mean     5.000000\n",
            "std      2.738613\n",
            "min      1.000000\n",
            "25%      3.000000\n",
            "50%      5.000000\n",
            "75%      7.000000\n",
            "max      9.000000\n",
            "dtype: float64\n"
          ]
        }
      ]
    },
    {
      "cell_type": "markdown",
      "source": [
        "solution : Create a Boxplot to Understand Spread and Identify Outliers"
      ],
      "metadata": {
        "id": "SQ-Ar7yHC7GM"
      }
    },
    {
      "cell_type": "code",
      "source": [
        "plt.boxplot(data)\n",
        "plt.title(\"Boxplot\")\n",
        "plt.ylabel(\"Values\")\n",
        "plt.show()\n"
      ],
      "metadata": {
        "colab": {
          "base_uri": "https://localhost:8080/",
          "height": 452
        },
        "id": "DdrccU50C6rM",
        "outputId": "cd2ba9ab-994f-4c53-e33e-fa62c32ccd74"
      },
      "execution_count": 26,
      "outputs": [
        {
          "output_type": "display_data",
          "data": {
            "text/plain": [
              "<Figure size 640x480 with 1 Axes>"
            ],
            "image/png": "[encoded data removed]"
          },
          "metadata": {}
        }
      ]
    },
    {
      "cell_type": "markdown",
      "source": [
        "solution : Calculate the Interquartile Range (IQR)"
      ],
      "metadata": {
        "id": "HKGMVibUDGsx"
      }
    },
    {
      "cell_type": "code",
      "source": [
        "data = [1, 2, 3, 4, 5, 6, 7, 8, 9]\n",
        "Q1 = np.percentile(data, 25)\n",
        "Q3 = np.percentile(data, 75)\n",
        "IQR = Q3 - Q1\n",
        "\n",
        "print(f\"IQR: {IQR}\")\n"
      ],
      "metadata": {
        "colab": {
          "base_uri": "https://localhost:8080/"
        },
        "id": "ukgyDLiUDGZA",
        "outputId": "64620751-d79b-47d1-bcd0-86b68cf0f94c"
      },
      "execution_count": 27,
      "outputs": [
        {
          "output_type": "stream",
          "name": "stdout",
          "text": [
            "IQR: 4.0\n"
          ]
        }
      ]
    },
    {
      "cell_type": "markdown",
      "source": [
        "solution : Implement Z-Score Normalization."
      ],
      "metadata": {
        "id": "Rux6C9H4DQug"
      }
    },
    {
      "cell_type": "code",
      "source": [
        "data = [1, 2, 3, 4, 5]\n",
        "z_scores = (data - np.mean(data)) / np.std(data, ddof=0)\n",
        "print(\"Z-scores:\", z_scores)\n"
      ],
      "metadata": {
        "colab": {
          "base_uri": "https://localhost:8080/"
        },
        "id": "sHfRCFZGDQbP",
        "outputId": "583c5fa7-92e2-425c-a3ad-f3e68868483f"
      },
      "execution_count": 28,
      "outputs": [
        {
          "output_type": "stream",
          "name": "stdout",
          "text": [
            "Z-scores: [-1.41421356 -0.70710678  0.          0.70710678  1.41421356]\n"
          ]
        }
      ]
    },
    {
      "cell_type": "markdown",
      "source": [
        "solution : Compare Standard Deviations of Two Datasets"
      ],
      "metadata": {
        "id": "kKXKqq3UDdZs"
      }
    },
    {
      "cell_type": "code",
      "source": [
        "data1 = [1, 2, 3]\n",
        "data2 = [4, 5, 6]\n",
        "std_dev1 = np.std(data1, ddof=0)\n",
        "std_dev2 = np.std(data2, ddof=0)\n",
        "\n",
        "print(f\"Standard Deviation of Data1: {std_dev1}, Data2: {std_dev2}\")\n"
      ],
      "metadata": {
        "colab": {
          "base_uri": "https://localhost:8080/"
        },
        "id": "ehYH4D98DdCQ",
        "outputId": "23dd065d-39f5-4590-e077-71e0b774ef07"
      },
      "execution_count": 29,
      "outputs": [
        {
          "output_type": "stream",
          "name": "stdout",
          "text": [
            "Standard Deviation of Data1: 0.816496580927726, Data2: 0.816496580927726\n"
          ]
        }
      ]
    },
    {
      "cell_type": "markdown",
      "source": [
        "solution : Visualize Covariance Using a Heatmap."
      ],
      "metadata": {
        "id": "vv8K-I7VDmsu"
      }
    },
    {
      "cell_type": "code",
      "source": [
        "import seaborn as sns\n",
        "\n",
        "data_df = pd.DataFrame({\"Data1\": data1, \"Data2\": data2})\n",
        "sns.heatmap(data_df.cov(), annot=True)\n",
        "plt.title(\"Covariance Heatmap\")\n",
        "plt.show()\n"
      ],
      "metadata": {
        "colab": {
          "base_uri": "https://localhost:8080/",
          "height": 452
        },
        "id": "R7N0FOLNDmYY",
        "outputId": "3ed70507-f68b-4c2b-be5d-8f6f186ae934"
      },
      "execution_count": 30,
      "outputs": [
        {
          "output_type": "display_data",
          "data": {
            "text/plain": [
              "<Figure size 640x480 with 2 Axes>"
            ],
            "image/png": "[encoded data removed]"
          },
          "metadata": {}
        }
      ]
    },
    {
      "cell_type": "markdown",
      "source": [
        "solution : Create a Correlation Matrix"
      ],
      "metadata": {
        "id": "uIuMGqLJEHnA"
      }
    },
    {
      "cell_type": "code",
      "source": [
        "correlation_matrix = data_df.corr()\n",
        "sns.heatmap(correlation_matrix, annot=True, cmap='coolwarm')\n",
        "plt.title(\"Correlation Matrix\")\n",
        "plt.show()\n"
      ],
      "metadata": {
        "colab": {
          "base_uri": "https://localhost:8080/",
          "height": 452
        },
        "id": "lTZlTa7bEHT1",
        "outputId": "095abaaa-637e-429d-dfe1-8d06d9a0989f"
      },
      "execution_count": 31,
      "outputs": [
        {
          "output_type": "display_data",
          "data": {
            "text/plain": [
              "<Figure size 640x480 with 2 Axes>"
            ],
            "image/png": "[encoded data removed]"
          },
          "metadata": {}
        }
      ]
    },
    {
      "cell_type": "markdown",
      "source": [
        "solution : Implement Variance and Standard Deviation"
      ],
      "metadata": {
        "id": "oysO86bRERw2"
      }
    },
    {
      "cell_type": "code",
      "source": [
        "variance = np.var(data)\n",
        "std_dev = np.std(data)\n",
        "\n",
        "print(f\"Variance: {variance}, Standard Deviation: {std_dev}\")\n"
      ],
      "metadata": {
        "colab": {
          "base_uri": "https://localhost:8080/"
        },
        "id": "LAg2tNHKERf-",
        "outputId": "6fac1eb6-5ffd-4faf-c030-bb2f55e5616f"
      },
      "execution_count": 32,
      "outputs": [
        {
          "output_type": "stream",
          "name": "stdout",
          "text": [
            "Variance: 2.0, Standard Deviation: 1.4142135623730951\n"
          ]
        }
      ]
    },
    {
      "cell_type": "markdown",
      "source": [
        "solution : Visualize Skewness and Kurtosis"
      ],
      "metadata": {
        "id": "3yiCgRw4Envr"
      }
    },
    {
      "cell_type": "code",
      "source": [
        "import numpy as np\n",
        "from scipy import stats\n",
        "\n",
        "# Sample datasets\n",
        "data1 = [1, 2, 3, 4, 5]\n",
        "data2 = [5, 4, 3, 2, 1]\n",
        "\n",
        "# Calculate Pearson correlation coefficient\n",
        "pearson_corr, pearson_p_value = stats.pearsonr(data1, data2)\n",
        "\n",
        "# Calculate Spearman correlation coefficient\n",
        "spearman_corr, spearman_p_value = stats.spearmanr(data1, data2)\n",
        "\n",
        "# Print the correlation results\n",
        "print(f\"Pearson Correlation: {pearson_corr}, P-Value: {pearson_p_value}\")\n",
        "print(f\"Spearman Correlation: {spearman_corr}, P-Value: {spearman_p_value}\")\n"
      ],
      "metadata": {
        "colab": {
          "base_uri": "https://localhost:8080/"
        },
        "id": "oqrovr53ElDI",
        "outputId": "853430fd-9af4-4360-c730-8ae24b92bd90"
      },
      "execution_count": 35,
      "outputs": [
        {
          "output_type": "stream",
          "name": "stdout",
          "text": [
            "Pearson Correlation: -1.0, P-Value: 0.0\n",
            "Spearman Correlation: -0.9999999999999999, P-Value: 1.4042654220543672e-24\n"
          ]
        }
      ]
    },
    {
      "cell_type": "markdown",
      "source": [
        "solution : Pearson and Spearman Correlation Coefficients"
      ],
      "metadata": {
        "id": "vq9oG9XjEyBb"
      }
    },
    {
      "cell_type": "code",
      "source": [
        "pearson_corr = stats.pearsonr(data1, data2)[0]\n",
        "spearman_corr = stats.spearmanr(data1, data2)[0]\n",
        "\n",
        "print(f\"Pearson Correlation: {pearson_corr}, Spearman Correlation: {spearman_corr}\")\n"
      ],
      "metadata": {
        "colab": {
          "base_uri": "https://localhost:8080/"
        },
        "id": "d29dB55vEv5n",
        "outputId": "43e32517-13e1-4e52-ed3b-ef2225009d84"
      },
      "execution_count": 33,
      "outputs": [
        {
          "output_type": "stream",
          "name": "stdout",
          "text": [
            "Pearson Correlation: 0.9999999999999999, Spearman Correlation: 1.0\n"
          ]
        }
      ]
    },
    {
      "cell_type": "markdown",
      "source": [
        "solution :"
      ],
      "metadata": {
        "id": "_C6NFq0xEwop"
      }
    }
  ]
}